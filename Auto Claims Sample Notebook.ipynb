{
 "cells": [
  {
   "cell_type": "markdown",
   "metadata": {},
   "source": [
    "## Deploy  <font color='red'>For Seller to update: Auto Insurance Claims Fraud Prediction </font> Model Package from AWS Marketplace \n",
    "\n",
    "\n",
    "## <font color='red'> For Seller to update: Add  overview of the ML Model here </font>\n",
    "\n",
    "This sample notebook shows you how to deploy <font color='red'> For Seller to update:Auto Insurance Claims Fraud Prediction</font> using Amazon SageMaker.\n",
    "\n",
    "> **Note**: This is a reference notebook and it cannot run unless you make changes suggested in the notebook.\n",
    "\n",
    "#### Pre-requisites:\n",
    "1. **Note**: This notebook contains elements which render correctly in Jupyter interface. Open this notebook from an Amazon SageMaker Notebook Instance or Amazon SageMaker Studio.\n",
    "1. Ensure that IAM role used has **AmazonSageMakerFullAccess**\n",
    "1. To deploy this ML model successfully, ensure that:\n",
    "    1. Either your IAM role has these three permissions and you have authority to make AWS Marketplace subscriptions in the AWS account used: \n",
    "        1. **aws-marketplace:ViewSubscriptions**\n",
    "        1. **aws-marketplace:Unsubscribe**\n",
    "        1. **aws-marketplace:Subscribe**  \n",
    "    2. or your AWS account has a subscription to <font color='red'> For Seller to update:Auto Insurance Claims Fraud Prediction</font>. If so, skip step: [Subscribe to the model package](#1.-Subscribe-to-the-model-package)\n",
    "\n",
    "#### Contents:\n",
    "1. [Subscribe to the model package](#1.-Subscribe-to-the-model-package)\n",
    "2. [Create an endpoint and perform real-time inference](#2.-Create-an-endpoint-and-perform-real-time-inference)\n",
    "   1. [Create an endpoint](#A.-Create-an-endpoint)\n",
    "   2. [Create input payload](#B.-Create-input-payload)\n",
    "   3. [Perform real-time inference](#C.-Perform-real-time-inference)\n",
    "   4. [Visualize output](#D.-Visualize-output)\n",
    "   5. [Delete the endpoint](#E.-Delete-the-endpoint)\n",
    "3. [Perform batch inference](#3.-Perform-batch-inference) \n",
    "4. [Clean-up](#4.-Clean-up)\n",
    "    1. [Delete the model](#A.-Delete-the-model)\n",
    "    2. [Unsubscribe to the listing (optional)](#B.-Unsubscribe-to-the-listing-(optional))\n",
    "    \n",
    "\n",
    "#### Usage instructions\n",
    "You can run this notebook one cell at a time (By using Shift+Enter for running a cell)."
   ]
  },
  {
   "cell_type": "markdown",
   "metadata": {},
   "source": [
    "### 1. Subscribe to the model package"
   ]
  },
  {
   "cell_type": "markdown",
   "metadata": {},
   "source": [
    "To subscribe to the model package:\n",
    "1. Open the model package listing page <font color='red'> For Seller to update:[Title_of_your_product](Provide link to your marketplace listing of your product).</font>\n",
    "1. On the AWS Marketplace listing, click on the **Continue to subscribe** button.\n",
    "1. On the **Subscribe to this software** page, review and click on **\"Accept Offer\"** if you and your organization agrees with EULA, pricing, and support terms. \n",
    "1. Once you click on **Continue to configuration button** and then choose a **region**, you will see a **Product Arn** displayed. This is the model package ARN that you need to specify while creating a deployable model using Boto3. Copy the ARN corresponding to your region and specify the same in the following cell."
   ]
  },
  {
   "cell_type": "code",
   "execution_count": 1,
   "metadata": {},
   "outputs": [],
   "source": [
    "model_package_arn='arn:aws:sagemaker:us-east-2:786796469737:model-package/fraud-detection-auto-v4'"
   ]
  },
  {
   "cell_type": "code",
   "execution_count": 2,
   "metadata": {},
   "outputs": [],
   "source": [
    "import base64\n",
    "import json \n",
    "import uuid\n",
    "from sagemaker import ModelPackage\n",
    "import sagemaker as sage\n",
    "from sagemaker import get_execution_role\n",
    "from sagemaker import ModelPackage\n",
    "from urllib.parse import urlparse\n",
    "import boto3\n",
    "from IPython.display import Image\n",
    "from PIL import Image as ImageEdit\n",
    "import urllib.request\n",
    "import numpy as np"
   ]
  },
  {
   "cell_type": "code",
   "execution_count": 3,
   "metadata": {},
   "outputs": [
    {
     "data": {
      "text/plain": [
       "'sagemaker-us-east-2-786796469737'"
      ]
     },
     "execution_count": 3,
     "metadata": {},
     "output_type": "execute_result"
    }
   ],
   "source": [
    "role = get_execution_role()\n",
    "\n",
    "sagemaker_session = sage.Session()\n",
    "\n",
    "bucket=sagemaker_session.default_bucket()\n",
    "bucket"
   ]
  },
  {
   "cell_type": "markdown",
   "metadata": {},
   "source": [
    "### 2. Create an endpoint and perform real-time inference"
   ]
  },
  {
   "cell_type": "markdown",
   "metadata": {},
   "source": [
    "If you want to understand how real-time inference with Amazon SageMaker works, see [Documentation](https://docs.aws.amazon.com/sagemaker/latest/dg/how-it-works-hosting.html)."
   ]
  },
  {
   "cell_type": "code",
   "execution_count": 4,
   "metadata": {},
   "outputs": [],
   "source": [
    "model_name='insurance-fraud-ep'\n",
    "\n",
    "content_type='text/csv'\n",
    "\n",
    "real_time_inference_instance_type='ml.m5.large'\n",
    "batch_transform_inference_instance_type='ml.m5.large'"
   ]
  },
  {
   "cell_type": "markdown",
   "metadata": {},
   "source": [
    "#### A. Create an endpoint"
   ]
  },
  {
   "cell_type": "code",
   "execution_count": 5,
   "metadata": {},
   "outputs": [
    {
     "name": "stdout",
     "output_type": "stream",
     "text": [
      "-------------!"
     ]
    }
   ],
   "source": [
    "\n",
    "def predict_wrapper(endpoint, session):\n",
    "    return sage.predictor.Predictor(endpoint, session,content_type)\n",
    "\n",
    "#create a deployable model from the model package.\n",
    "model = ModelPackage(role=role,\n",
    "                    model_package_arn=model_package_arn,\n",
    "                    sagemaker_session=sagemaker_session,\n",
    "                    predictor_cls=predict_wrapper)\n",
    "\n",
    "#Deploy the model\n",
    "predictor = model.deploy(1, real_time_inference_instance_type, endpoint_name=model_name)"
   ]
  },
  {
   "cell_type": "markdown",
   "metadata": {},
   "source": [
    "Once endpoint has been created, you would be able to perform real-time inference."
   ]
  },
  {
   "cell_type": "markdown",
   "metadata": {},
   "source": [
    "#### B. Create input payload"
   ]
  },
  {
   "cell_type": "code",
   "execution_count": 6,
   "metadata": {},
   "outputs": [],
   "source": [
    "file_name = 'input.csv'"
   ]
  },
  {
   "cell_type": "markdown",
   "metadata": {},
   "source": [
    "<Add code snippet that shows the payload contents>"
   ]
  },
  {
   "cell_type": "markdown",
   "metadata": {},
   "source": [
    "#### C. Perform real-time inference"
   ]
  },
  {
   "cell_type": "code",
   "execution_count": 7,
   "metadata": {},
   "outputs": [
    {
     "name": "stdout",
     "output_type": "stream",
     "text": [
      "{\r\n",
      "    \"ContentType\": \"csv\",\r\n",
      "    \"InvokedProductionVariant\": \"AllTraffic\"\r\n",
      "}\r\n"
     ]
    }
   ],
   "source": [
    "!aws sagemaker-runtime invoke-endpoint \\\n",
    "    --endpoint-name $model_name \\\n",
    "    --body fileb://$file_name \\\n",
    "    --content-type $content_type \\\n",
    "    --region $sagemaker_session.boto_region_name \\\n",
    "    output.csv"
   ]
  },
  {
   "cell_type": "markdown",
   "metadata": {},
   "source": [
    "#### D. Visualize output"
   ]
  },
  {
   "cell_type": "code",
   "execution_count": 8,
   "metadata": {},
   "outputs": [
    {
     "data": {
      "text/html": [
       "<div>\n",
       "<style scoped>\n",
       "    .dataframe tbody tr th:only-of-type {\n",
       "        vertical-align: middle;\n",
       "    }\n",
       "\n",
       "    .dataframe tbody tr th {\n",
       "        vertical-align: top;\n",
       "    }\n",
       "\n",
       "    .dataframe thead th {\n",
       "        text-align: right;\n",
       "    }\n",
       "</style>\n",
       "<table border=\"1\" class=\"dataframe\">\n",
       "  <thead>\n",
       "    <tr style=\"text-align: right;\">\n",
       "      <th></th>\n",
       "      <th>0</th>\n",
       "      <th>1</th>\n",
       "    </tr>\n",
       "  </thead>\n",
       "  <tbody>\n",
       "    <tr>\n",
       "      <th>0</th>\n",
       "      <td>policy_number</td>\n",
       "      <td>prediction_of_fraud</td>\n",
       "    </tr>\n",
       "    <tr>\n",
       "      <th>1</th>\n",
       "      <td>323623</td>\n",
       "      <td>0.016524194</td>\n",
       "    </tr>\n",
       "    <tr>\n",
       "      <th>2</th>\n",
       "      <td>915129</td>\n",
       "      <td>0.0025932775</td>\n",
       "    </tr>\n",
       "    <tr>\n",
       "      <th>3</th>\n",
       "      <td>84573</td>\n",
       "      <td>0.12892379</td>\n",
       "    </tr>\n",
       "    <tr>\n",
       "      <th>4</th>\n",
       "      <td>150514</td>\n",
       "      <td>0.0019840703</td>\n",
       "    </tr>\n",
       "    <tr>\n",
       "      <th>...</th>\n",
       "      <td>...</td>\n",
       "      <td>...</td>\n",
       "    </tr>\n",
       "    <tr>\n",
       "      <th>227</th>\n",
       "      <td>829548</td>\n",
       "      <td>0.87590027</td>\n",
       "    </tr>\n",
       "    <tr>\n",
       "      <th>228</th>\n",
       "      <td>939622</td>\n",
       "      <td>0.9839113</td>\n",
       "    </tr>\n",
       "    <tr>\n",
       "      <th>229</th>\n",
       "      <td>407646</td>\n",
       "      <td>0.99853337</td>\n",
       "    </tr>\n",
       "    <tr>\n",
       "      <th>230</th>\n",
       "      <td>887672</td>\n",
       "      <td>0.98693943</td>\n",
       "    </tr>\n",
       "    <tr>\n",
       "      <th>231</th>\n",
       "      <td>659401</td>\n",
       "      <td>0.9730094</td>\n",
       "    </tr>\n",
       "  </tbody>\n",
       "</table>\n",
       "<p>232 rows × 2 columns</p>\n",
       "</div>"
      ],
      "text/plain": [
       "                 0                    1\n",
       "0    policy_number  prediction_of_fraud\n",
       "1           323623          0.016524194\n",
       "2           915129         0.0025932775\n",
       "3            84573           0.12892379\n",
       "4           150514         0.0019840703\n",
       "..             ...                  ...\n",
       "227         829548           0.87590027\n",
       "228         939622            0.9839113\n",
       "229         407646           0.99853337\n",
       "230         887672           0.98693943\n",
       "231         659401            0.9730094\n",
       "\n",
       "[232 rows x 2 columns]"
      ]
     },
     "execution_count": 8,
     "metadata": {},
     "output_type": "execute_result"
    }
   ],
   "source": [
    "import pandas as pd \n",
    "pd.read_csv(\"output.csv\",header=None)"
   ]
  },
  {
   "cell_type": "markdown",
   "metadata": {},
   "source": [
    "#### E. Delete the endpoint"
   ]
  },
  {
   "cell_type": "markdown",
   "metadata": {},
   "source": [
    "Now that you have successfully performed a real-time inference, you do not need the endpoint any more. You can terminate the endpoint to avoid being charged."
   ]
  },
  {
   "cell_type": "code",
   "execution_count": 9,
   "metadata": {},
   "outputs": [],
   "source": [
    "predictor=sage.predictor.Predictor(model_name, sagemaker_session,content_type)\n",
    "predictor.delete_endpoint(delete_endpoint_config=True)"
   ]
  },
  {
   "cell_type": "markdown",
   "metadata": {},
   "source": [
    "### 3. Perform batch inference"
   ]
  },
  {
   "cell_type": "markdown",
   "metadata": {},
   "source": [
    "In this section, you will perform batch inference using multiple input payloads together. If you are not familiar with batch transform, and want to learn more, see these links:\n",
    "1. [How it works](https://docs.aws.amazon.com/sagemaker/latest/dg/ex1-batch-transform.html)\n",
    "2. [How to run a batch transform job](https://docs.aws.amazon.com/sagemaker/latest/dg/how-it-works-batch.html)"
   ]
  },
  {
   "cell_type": "code",
   "execution_count": 12,
   "metadata": {},
   "outputs": [
    {
     "name": "stdout",
     "output_type": "stream",
     "text": [
      "Transform input uploaded to s3://sagemaker-us-east-2-786796469737/insurance-fraud-ep\n"
     ]
    }
   ],
   "source": [
    "#upload the batch-transform job input files to S3\n",
    "transform_input_folder = \"Input\"\n",
    "transform_input = sagemaker_session.upload_data(transform_input_folder, key_prefix=model_name) \n",
    "print(\"Transform input uploaded to \" + transform_input)"
   ]
  },
  {
   "cell_type": "code",
   "execution_count": 13,
   "metadata": {},
   "outputs": [
    {
     "name": "stdout",
     "output_type": "stream",
     "text": [
      ".......................\u001b[34m/usr/local/lib/python3.6/dist-packages/sklearn/base.py:315: UserWarning: Trying to unpickle estimator SimpleImputer from version 0.22.1 when using version 0.24.2. This might lead to breaking code or invalid results. Use at your own risk.\n",
      "  UserWarning)\u001b[0m\n",
      "\u001b[34m/usr/local/lib/python3.6/dist-packages/sklearn/base.py:315: UserWarning: Trying to unpickle estimator StandardScaler from version 0.22.1 when using version 0.24.2. This might lead to breaking code or invalid results. Use at your own risk.\n",
      "  UserWarning)\u001b[0m\n",
      "\u001b[34m/usr/local/lib/python3.6/dist-packages/sklearn/base.py:315: UserWarning: Trying to unpickle estimator Pipeline from version 0.22.1 when using version 0.24.2. This might lead to breaking code or invalid results. Use at your own risk.\n",
      "  UserWarning)\u001b[0m\n",
      "\u001b[34m/usr/local/lib/python3.6/dist-packages/sklearn/base.py:315: UserWarning: Trying to unpickle estimator OneHotEncoder from version 0.22.1 when using version 0.24.2. This might lead to breaking code or invalid results. Use at your own risk.\n",
      "  UserWarning)\u001b[0m\n",
      "\u001b[34m/usr/local/lib/python3.6/dist-packages/sklearn/base.py:315: UserWarning: Trying to unpickle estimator ColumnTransformer from version 0.22.1 when using version 0.24.2. This might lead to breaking code or invalid results. Use at your own risk.\n",
      "  UserWarning)\n",
      " * Serving Flask app 'serve' (lazy loading)\n",
      " * Environment: production\n",
      "   WARNING: This is a development server. Do not use it in a production deployment.\n",
      "   Use a production WSGI server instead.\n",
      " * Debug mode: on\n",
      " * Running on all addresses.\n",
      "   WARNING: This is a development server. Do not use it in a production deployment.\n",
      " * Running on http://169.254.255.131:8080/ (Press CTRL+C to quit)\n",
      " * Restarting with stat\u001b[0m\n",
      "\u001b[34m/usr/local/lib/python3.6/dist-packages/sklearn/base.py:315: UserWarning: Trying to unpickle estimator SimpleImputer from version 0.22.1 when using version 0.24.2. This might lead to breaking code or invalid results. Use at your own risk.\n",
      "  UserWarning)\u001b[0m\n",
      "\u001b[34m/usr/local/lib/python3.6/dist-packages/sklearn/base.py:315: UserWarning: Trying to unpickle estimator StandardScaler from version 0.22.1 when using version 0.24.2. This might lead to breaking code or invalid results. Use at your own risk.\n",
      "  UserWarning)\u001b[0m\n",
      "\u001b[34m/usr/local/lib/python3.6/dist-packages/sklearn/base.py:315: UserWarning: Trying to unpickle estimator Pipeline from version 0.22.1 when using version 0.24.2. This might lead to breaking code or invalid results. Use at your own risk.\n",
      "  UserWarning)\u001b[0m\n",
      "\u001b[34m/usr/local/lib/python3.6/dist-packages/sklearn/base.py:315: UserWarning: Trying to unpickle estimator OneHotEncoder from version 0.22.1 when using version 0.24.2. This might lead to breaking code or invalid results. Use at your own risk.\n",
      "  UserWarning)\u001b[0m\n",
      "\u001b[34m/usr/local/lib/python3.6/dist-packages/sklearn/base.py:315: UserWarning: Trying to unpickle estimator ColumnTransformer from version 0.22.1 when using version 0.24.2. This might lead to breaking code or invalid results. Use at your own risk.\n",
      "  UserWarning)\n",
      " * Debugger is active!\n",
      " * Debugger PIN: 660-283-280\u001b[0m\n",
      "\u001b[35m/usr/local/lib/python3.6/dist-packages/sklearn/base.py:315: UserWarning: Trying to unpickle estimator SimpleImputer from version 0.22.1 when using version 0.24.2. This might lead to breaking code or invalid results. Use at your own risk.\n",
      "  UserWarning)\u001b[0m\n",
      "\u001b[35m/usr/local/lib/python3.6/dist-packages/sklearn/base.py:315: UserWarning: Trying to unpickle estimator StandardScaler from version 0.22.1 when using version 0.24.2. This might lead to breaking code or invalid results. Use at your own risk.\n",
      "  UserWarning)\u001b[0m\n",
      "\u001b[35m/usr/local/lib/python3.6/dist-packages/sklearn/base.py:315: UserWarning: Trying to unpickle estimator Pipeline from version 0.22.1 when using version 0.24.2. This might lead to breaking code or invalid results. Use at your own risk.\n",
      "  UserWarning)\u001b[0m\n",
      "\u001b[35m/usr/local/lib/python3.6/dist-packages/sklearn/base.py:315: UserWarning: Trying to unpickle estimator OneHotEncoder from version 0.22.1 when using version 0.24.2. This might lead to breaking code or invalid results. Use at your own risk.\n",
      "  UserWarning)\u001b[0m\n",
      "\u001b[35m/usr/local/lib/python3.6/dist-packages/sklearn/base.py:315: UserWarning: Trying to unpickle estimator ColumnTransformer from version 0.22.1 when using version 0.24.2. This might lead to breaking code or invalid results. Use at your own risk.\n",
      "  UserWarning)\n",
      " * Serving Flask app 'serve' (lazy loading)\n",
      " * Environment: production\n",
      "   WARNING: This is a development server. Do not use it in a production deployment.\n",
      "   Use a production WSGI server instead.\n",
      " * Debug mode: on\n",
      " * Running on all addresses.\n",
      "   WARNING: This is a development server. Do not use it in a production deployment.\n",
      " * Running on http://169.254.255.131:8080/ (Press CTRL+C to quit)\n",
      " * Restarting with stat\u001b[0m\n",
      "\u001b[35m/usr/local/lib/python3.6/dist-packages/sklearn/base.py:315: UserWarning: Trying to unpickle estimator SimpleImputer from version 0.22.1 when using version 0.24.2. This might lead to breaking code or invalid results. Use at your own risk.\n",
      "  UserWarning)\u001b[0m\n",
      "\u001b[35m/usr/local/lib/python3.6/dist-packages/sklearn/base.py:315: UserWarning: Trying to unpickle estimator StandardScaler from version 0.22.1 when using version 0.24.2. This might lead to breaking code or invalid results. Use at your own risk.\n",
      "  UserWarning)\u001b[0m\n",
      "\u001b[35m/usr/local/lib/python3.6/dist-packages/sklearn/base.py:315: UserWarning: Trying to unpickle estimator Pipeline from version 0.22.1 when using version 0.24.2. This might lead to breaking code or invalid results. Use at your own risk.\n",
      "  UserWarning)\u001b[0m\n",
      "\u001b[35m/usr/local/lib/python3.6/dist-packages/sklearn/base.py:315: UserWarning: Trying to unpickle estimator OneHotEncoder from version 0.22.1 when using version 0.24.2. This might lead to breaking code or invalid results. Use at your own risk.\n",
      "  UserWarning)\u001b[0m\n",
      "\u001b[35m/usr/local/lib/python3.6/dist-packages/sklearn/base.py:315: UserWarning: Trying to unpickle estimator ColumnTransformer from version 0.22.1 when using version 0.24.2. This might lead to breaking code or invalid results. Use at your own risk.\n",
      "  UserWarning)\n",
      " * Debugger is active!\n",
      " * Debugger PIN: 660-283-280\u001b[0m\n",
      "\u001b[34m169.254.255.130 - - [06/Jul/2021 08:37:47] \"GET /ping HTTP/1.1\" 200 -\u001b[0m\n",
      "\u001b[34m169.254.255.130 - - [06/Jul/2021 08:37:47] \"#033[33mGET /execution-parameters HTTP/1.1#033[0m\" 404 -\u001b[0m\n",
      "\u001b[34m1\u001b[0m\n",
      "\u001b[34m2\u001b[0m\n",
      "\u001b[34m3\u001b[0m\n",
      "\u001b[34mdf_from_engine\u001b[0m\n",
      "\u001b[34m[['policy_number', 'prediction_of_fraud'], [323623, 0.016524194], [915129, 0.0025932775], [84573, 0.12892379], [150514, 0.0019840703], [906147, 0.0073868823], [774508, 0.006009335], [833245, 0.10171516], [105674, 0.0010885731], [404456, 0.030170133], [845767, 0.032585144], [1168039, 0.29455274], [455011, 0.0210349], [355972, 0.0046042935], [678035, 0.012771687], [349432, 0.0012562207], [371025, 0.0017354649], [966520, 0.18017629], [775775, 0.22521344], [692441, 0.035712626], [656835, 0.006167986], [477642, 0.025482727], [330308, 0.010603915], [1129813, 0.017636167], [686949, 0.0059496337], [688589, 0.008420201], [847402, 0.2845854], [353510, 0.023077687], [363035, 0.001396036], [1010656, 0.15716046], [809960, 0.034600724], [533178, 0.023011034], [660288, 0.001589782], [65487, 0.0005058465], [88663, 0.001024629], [355920, 0.013607804], [557229, 0.064123094], [1243070, 0.2555311], [677299, 0.0009810242], [783216, 0.0039329743], [391850, 0.022919476], [704580, 0.01038677], [174554, 0.0087962], [256788, 0.01032499], [270280, 0.011388886], [478507, 0.09764076], [589255, 0.07729281], [944449, 0.009399318], [744077, 0.00017991783], [416237, 0.03248035], [879387, 0.0051034414], [892325, 0.0022467962], [962742, 0.78284705], [398050, 0.009065766], [591266, 0.015729526], [360052, 0.014627034], [1102285, 0.32522726], [966392, 0.80884093], [350019, 0.030948674], [398743, 0.06652737], [915532, 0.25266233], [1019041, 0.007694974], [1083952, 0.014341189], [244070, 0.017267028], [262747, 0.010929737], [374061, 0.023532331], [652375, 0.0063959896], [646017, 0.0025815463], [885618, 0.0014971445], [1003204, 0.056810897], [743283, 0.43334], [4880, 0.0069952477], [874772, 0.0012938892], [693521, 0.05560509], [957787, 0.018217526], [165670, 0.0037549678], [298341, 0.0037790437], [717290, 0.017993012], [949554, 0.056278], [549620, 0.0038878156], [91396, 0.00549391], [711229, 0.031035377], [59071, 0.07020526], [963727, 0.0043143113], [274356, 0.08430198], [765831, 0.004830985], [74727, 0.0299355], [490920, 0.10978644], [796889, 0.030877786], [833742, 0.008336236], [1185082, 0.29775843], [385050, 0.037998147], [657632, 0.0038209918], [377014, 0.037879564], [737996, 0.038873464], [843705, 0.010162686], [111478, 0.0043524504], [833812, 0.012319298], [443925, 0.0586659], [290765, 0.19101451], [823971, 0.05095131], [362651, 0.0013992018], [881459, 0.009290155], [469694, 0.013465577], [250713, 0.005201948], [1265321, 0.0109691955], [923373, 0.0052466975], [509541, 0.029620854], [904254, 0.055228505], [59682, 0.03716044], [626072, 0.006383205], [397541, 0.016831337], [750382, 0.026398262], [900418, 0.1646474], [206915, 0.030582616], [330074, 0.04159901], [788791, 0.026749827], [20374, 0.03588363], [363004, 0.032746293], [436808, 0.0021271007], [780792, 0.7235412], [871945, 0.90840757], [196419, 0.9039238], [345989, 0.9885632], [826004, 0.9959805], [788556, 0.9447094], [920111, 0.9869915], [291397, 0.9995328], [563462, 0.9974367], [712837, 0.96074075], [370334, 0.9279243], [390343, 0.9509381], [37867, 0.9531621], [637648, 0.9261531], [1116278, 0.99404377], [621724, 0.9686831], [713600, 0.9914724], [1050891, 0.9882372], [828995, 0.90800697], [88955, 0.990746], [679517, 0.97175306], [1036479, 0.9517637], [427691, 0.9862212], [342566, 0.91333747], [560472, 0.99329835], [525475, 0.95691293], [1193001, 0.90602773], [449334, 0.946149], [1103849, 0.8016938], [1146403, 0.9788536], [919075, 0.968452], [210546, 0.99632156], [768275, 0.522154], [727820, 0.9901022], [706045, 0.9385545], [435395, 0.97926545], [351779, 0.994208], [527550, 0.9795982], [643492, 0.95591605], [790714, 0.99699867], [841424, 0.9322184], [5674, 0.9638678], [737477, 0.77527523], [163061, 0.94894594], [1006427, 0.9544233], [771282, 0.9994055], [47606, 0.96515024], [335397, 0.9664915], [240705, 0.9106256], [96281, 0.99386394], [529180, 0.82345045], [192553, 0.9928779], [609416, 0.9259417], [516335, 0.9940189], [205522, 0.9991308], [507160, 0.98948425], [378933, 0.97730905], [206557, 0.9927521], [861374, 0.7369521], [774023, 0.8391173], [533354, 0.9628294], [527754, 0.38045457], [252209, 0.99211395], [524033, 0.9821868], [1049846, 0.95624256], [792555, 0.9478395], [106790, 0.9920223], [505319, 0.9918623], [870687, 0.96690637], [19298, 0.97566944], [1096185, 0.9811965], [19601, 0.8948362], [392284, 0.9404218], [458583, 0.99106896], [607712, 0.9967614], [336282, 0.9921456], [1108664, 0.818632], [84184, 0.99219126], [255381, 0.7454115], [1096518, 0.82898986], [570608, 0.965808], [702280, 0.9288242], [827703, 0.99866736], [326582, 0.6709396], [917252, 0.9782381], [363662, 0.9908415], [207036, 0.9947345], [850253, 0.9652856], [113585, 0.9879633], [694844, 0.9935967], [680025, 0.8775304], [337439, 0.9982666], [753021, 0.95939606], [571293, 0.9737464], [504664, 0.99935824], [815043, 0.971882], [1093716, 0.9384652], [593181, 0.8942264], [401921, 0.95275486], [367925, 0.96476275], [4700, 0.99264103], [284987, 0.9702351], [114818, 0.91800714], [402594, 0.95262486], [630403, 0.78586817], [1157357, 0.96715], [24587, 0.99685705], [829548, 0.87590027], [939622, 0.9839113], [407646, 0.99853337], [887672, 0.98693943], [659401, 0.9730094]]\u001b[0m\n",
      "\u001b[34m4: [['policy_number', 'prediction_of_fraud'], [323623, 0.016524194], [915129, 0.0025932775], [84573, 0.12892379], [150514, 0.0019840703], [906147, 0.0073868823], [774508, 0.006009335], [833245, 0.10171516], [105674, 0.0010885731], [404456, 0.030170133], [845767, 0.032585144], [1168039, 0.29455274], [455011, 0.0210349], [355972, 0.0046042935], [678035, 0.012771687], [349432, 0.0012562207], [371025, 0.0017354649], [966520, 0.18017629], [775775, 0.22521344], [692441, 0.035712626], [656835, 0.006167986], [477642, 0.025482727], [330308, 0.010603915], [1129813, 0.017636167], [686949, 0.0059496337], [688589, 0.008420201], [847402, 0.2845854], [353510, 0.023077687], [363035, 0.001396036], [1010656, 0.15716046], [809960, 0.034600724], [533178, 0.023011034], [660288, 0.001589782], [65487, 0.0005058465], [88663, 0.001024629], [355920, 0.013607804], [557229, 0.064123094], [1243070, 0.2555311], [677299, 0.0009810242], [783216, 0.0039329743], [391850, 0.022919476], [704580, 0.01038677], [174554, 0.0087962], [256788, 0.01032499], [270280, 0.011388886], [478507, 0.09764076], [589255, 0.07729281], [944449, 0.009399318], [744077, 0.00017991783], [416237, 0.03248035], [879387, 0.0051034414], [892325, 0.0022467962], [962742, 0.78284705], [398050, 0.009065766], [591266, 0.015729526], [360052, 0.014627034], [1102285, 0.32522726], [966392, 0.80884093], [350019, 0.030948674], [398743, 0.06652737], [915532, 0.25266233], [1019041, 0.007694974], [1083952, 0.014341189], [244070, 0.017267028], [262747, 0.010929737], [374061, 0.023532331], [652375, 0.0063959896], [646017, 0.0025815463], [885618, 0.0014971445], [1003204, 0.056810897], [743283, 0.43334], [4880, 0.0069952477], [874772, 0.0012938892], [693521, 0.05560509], [957787, 0.018217526], [165670, 0.0037549678], [298341, 0.0037790437], [717290, 0.017993012], [949554, 0.056278], [549620, 0.0038878156], [91396, 0.00549391], [711229, 0.031035377], [59071, 0.07020526], [963727, 0.0043143113], [274356, 0.08430198], [765831, 0.004830985], [74727, 0.0299355], [490920, 0.10978644], [796889, 0.030877786], [833742, 0.008336236], [1185082, 0.29775843], [385050, 0.037998147], [657632, 0.0038209918], [377014, 0.037879564], [737996, 0.038873464], [843705, 0.010162686], [111478, 0.0043524504], [833812, 0.012319298], [443925, 0.0586659], [290765, 0.19101451], [823971, 0.05095131], [362651, 0.0013992018], [881459, 0.009290155], [469694, 0.013465577], [250713, 0.005201948], [1265321, 0.0109691955], [923373, 0.0052466975], [509541, 0.029620854], [904254, 0.055228505], [59682, 0.03716044], [626072, 0.006383205], [397541, 0.016831337], [750382, 0.026398262], [900418, 0.1646474], [206915, 0.030582616], [330074, 0.04159901], [788791, 0.026749827], [20374, 0.03588363], [363004, 0.032746293], [436808, 0.0021271007], [780792, 0.7235412], [871945, 0.90840757], [196419, 0.9039238], [345989, 0.9885632], [826004, 0.9959805], [788556, 0.9447094], [920111, 0.9869915], [291397, 0.9995328], [563462, 0.9974367], [712837, 0.96074075], [370334, 0.9279243], [390343, 0.9509381], [37867, 0.9531621], [637648, 0.9261531], [1116278, 0.99404377], [621724, 0.9686831], [713600, 0.9914724], [1050891, 0.9882372], [828995, 0.90800697], [88955, 0.990746], [679517, 0.97175306], [1036479, 0.9517637], [427691, 0.9862212], [342566, 0.91333747], [560472, 0.99329835], [525475, 0.95691293], [1193001, 0.90602773], [449334, 0.946149], [1103849, 0.8016938], [1146403, 0.9788536], [919075, 0.968452], [210546, 0.99632156], [768275, 0.522154], [727820, 0.9901022], [706045, 0.9385545], [435395, 0.97926545], [351779, 0.994208], [527550, 0.9795982], [643492, 0.95591605], [790714, 0.99699867], [841424, 0.9322184], [5674, 0.9638678], [737477, 0.77527523], [163061, 0.94894594], [1006427, 0.9544233], [771282, 0.9994055], [47606, 0.96515024], [335397, 0.9664915], [240705, 0.9106256], [96281, 0.99386394], [529180, 0.82345045], [192553, 0.9928779], [609416, 0.9259417], [516335, 0.9940189], [205522, 0.9991308], [507160, 0.98948425], [378933, 0.97730905], [206557, 0.9927521], [861374, 0.7369521], [774023, 0.8391173], [533354, 0.9628294], [527754, 0.38045457], [252209, 0.99211395], [524033, 0.9821868], [1049846, 0.95624256], [792555, 0.9478395], [106790, 0.9920223], [505319, 0.9918623], [870687, 0.96690637], [19298, 0.97566944], [1096185, 0.9811965], [19601, 0.8948362], [392284, 0.9404218], [458583, 0.99106896], [607712, 0.9967614], [336282, 0.9921456], [1108664, 0.818632], [84184, 0.99219126], [255381, 0.7454115], [1096518, 0.82898986], [570608, 0.965808], [702280, 0.9288242], [827703, 0.99866736], [326582, 0.6709396], [917252, 0.9782381], [363662, 0.9908415], [207036, 0.9947345], [850253, 0.9652856], [113585, 0.9879633], [694844, 0.9935967], [680025, 0.8775304], [337439, 0.9982666], [753021, 0.95939606], [571293, 0.9737464], [504664, 0.99935824], [815043, 0.971882], [1093716, 0.9384652], [593181, 0.8942264], [401921, 0.95275486], [367925, 0.96476275], [4700, 0.99264103], [284987, 0.9702351], [114818, 0.91800714], [402594, 0.95262486], [630403, 0.78586817], [1157357, 0.96715], [24587, 0.99685705], [829548, 0.87590027], [939622, 0.9839113], [407646, 0.99853337], [887672, 0.98693943], [659401, 0.9730094]]\u001b[0m\n",
      "\u001b[34m169.254.255.130 - - [06/Jul/2021 08:37:48] \"POST /invocations HTTP/1.1\" 200 -\u001b[0m\n",
      "\u001b[35m169.254.255.130 - - [06/Jul/2021 08:37:47] \"GET /ping HTTP/1.1\" 200 -\u001b[0m\n",
      "\u001b[35m169.254.255.130 - - [06/Jul/2021 08:37:47] \"#033[33mGET /execution-parameters HTTP/1.1#033[0m\" 404 -\u001b[0m\n",
      "\u001b[35m1\u001b[0m\n",
      "\u001b[35m2\u001b[0m\n",
      "\u001b[35m3\u001b[0m\n",
      "\u001b[35mdf_from_engine\u001b[0m\n",
      "\u001b[35m[['policy_number', 'prediction_of_fraud'], [323623, 0.016524194], [915129, 0.0025932775], [84573, 0.12892379], [150514, 0.0019840703], [906147, 0.0073868823], [774508, 0.006009335], [833245, 0.10171516], [105674, 0.0010885731], [404456, 0.030170133], [845767, 0.032585144], [1168039, 0.29455274], [455011, 0.0210349], [355972, 0.0046042935], [678035, 0.012771687], [349432, 0.0012562207], [371025, 0.0017354649], [966520, 0.18017629], [775775, 0.22521344], [692441, 0.035712626], [656835, 0.006167986], [477642, 0.025482727], [330308, 0.010603915], [1129813, 0.017636167], [686949, 0.0059496337], [688589, 0.008420201], [847402, 0.2845854], [353510, 0.023077687], [363035, 0.001396036], [1010656, 0.15716046], [809960, 0.034600724], [533178, 0.023011034], [660288, 0.001589782], [65487, 0.0005058465], [88663, 0.001024629], [355920, 0.013607804], [557229, 0.064123094], [1243070, 0.2555311], [677299, 0.0009810242], [783216, 0.0039329743], [391850, 0.022919476], [704580, 0.01038677], [174554, 0.0087962], [256788, 0.01032499], [270280, 0.011388886], [478507, 0.09764076], [589255, 0.07729281], [944449, 0.009399318], [744077, 0.00017991783], [416237, 0.03248035], [879387, 0.0051034414], [892325, 0.0022467962], [962742, 0.78284705], [398050, 0.009065766], [591266, 0.015729526], [360052, 0.014627034], [1102285, 0.32522726], [966392, 0.80884093], [350019, 0.030948674], [398743, 0.06652737], [915532, 0.25266233], [1019041, 0.007694974], [1083952, 0.014341189], [244070, 0.017267028], [262747, 0.010929737], [374061, 0.023532331], [652375, 0.0063959896], [646017, 0.0025815463], [885618, 0.0014971445], [1003204, 0.056810897], [743283, 0.43334], [4880, 0.0069952477], [874772, 0.0012938892], [693521, 0.05560509], [957787, 0.018217526], [165670, 0.0037549678], [298341, 0.0037790437], [717290, 0.017993012], [949554, 0.056278], [549620, 0.0038878156], [91396, 0.00549391], [711229, 0.031035377], [59071, 0.07020526], [963727, 0.0043143113], [274356, 0.08430198], [765831, 0.004830985], [74727, 0.0299355], [490920, 0.10978644], [796889, 0.030877786], [833742, 0.008336236], [1185082, 0.29775843], [385050, 0.037998147], [657632, 0.0038209918], [377014, 0.037879564], [737996, 0.038873464], [843705, 0.010162686], [111478, 0.0043524504], [833812, 0.012319298], [443925, 0.0586659], [290765, 0.19101451], [823971, 0.05095131], [362651, 0.0013992018], [881459, 0.009290155], [469694, 0.013465577], [250713, 0.005201948], [1265321, 0.0109691955], [923373, 0.0052466975], [509541, 0.029620854], [904254, 0.055228505], [59682, 0.03716044], [626072, 0.006383205], [397541, 0.016831337], [750382, 0.026398262], [900418, 0.1646474], [206915, 0.030582616], [330074, 0.04159901], [788791, 0.026749827], [20374, 0.03588363], [363004, 0.032746293], [436808, 0.0021271007], [780792, 0.7235412], [871945, 0.90840757], [196419, 0.9039238], [345989, 0.9885632], [826004, 0.9959805], [788556, 0.9447094], [920111, 0.9869915], [291397, 0.9995328], [563462, 0.9974367], [712837, 0.96074075], [370334, 0.9279243], [390343, 0.9509381], [37867, 0.9531621], [637648, 0.9261531], [1116278, 0.99404377], [621724, 0.9686831], [713600, 0.9914724], [1050891, 0.9882372], [828995, 0.90800697], [88955, 0.990746], [679517, 0.97175306], [1036479, 0.9517637], [427691, 0.9862212], [342566, 0.91333747], [560472, 0.99329835], [525475, 0.95691293], [1193001, 0.90602773], [449334, 0.946149], [1103849, 0.8016938], [1146403, 0.9788536], [919075, 0.968452], [210546, 0.99632156], [768275, 0.522154], [727820, 0.9901022], [706045, 0.9385545], [435395, 0.97926545], [351779, 0.994208], [527550, 0.9795982], [643492, 0.95591605], [790714, 0.99699867], [841424, 0.9322184], [5674, 0.9638678], [737477, 0.77527523], [163061, 0.94894594], [1006427, 0.9544233], [771282, 0.9994055], [47606, 0.96515024], [335397, 0.9664915], [240705, 0.9106256], [96281, 0.99386394], [529180, 0.82345045], [192553, 0.9928779], [609416, 0.9259417], [516335, 0.9940189], [205522, 0.9991308], [507160, 0.98948425], [378933, 0.97730905], [206557, 0.9927521], [861374, 0.7369521], [774023, 0.8391173], [533354, 0.9628294], [527754, 0.38045457], [252209, 0.99211395], [524033, 0.9821868], [1049846, 0.95624256], [792555, 0.9478395], [106790, 0.9920223], [505319, 0.9918623], [870687, 0.96690637], [19298, 0.97566944], [1096185, 0.9811965], [19601, 0.8948362], [392284, 0.9404218], [458583, 0.99106896], [607712, 0.9967614], [336282, 0.9921456], [1108664, 0.818632], [84184, 0.99219126], [255381, 0.7454115], [1096518, 0.82898986], [570608, 0.965808], [702280, 0.9288242], [827703, 0.99866736], [326582, 0.6709396], [917252, 0.9782381], [363662, 0.9908415], [207036, 0.9947345], [850253, 0.9652856], [113585, 0.9879633], [694844, 0.9935967], [680025, 0.8775304], [337439, 0.9982666], [753021, 0.95939606], [571293, 0.9737464], [504664, 0.99935824], [815043, 0.971882], [1093716, 0.9384652], [593181, 0.8942264], [401921, 0.95275486], [367925, 0.96476275], [4700, 0.99264103], [284987, 0.9702351], [114818, 0.91800714], [402594, 0.95262486], [630403, 0.78586817], [1157357, 0.96715], [24587, 0.99685705], [829548, 0.87590027], [939622, 0.9839113], [407646, 0.99853337], [887672, 0.98693943], [659401, 0.9730094]]\u001b[0m\n",
      "\u001b[35m4: [['policy_number', 'prediction_of_fraud'], [323623, 0.016524194], [915129, 0.0025932775], [84573, 0.12892379], [150514, 0.0019840703], [906147, 0.0073868823], [774508, 0.006009335], [833245, 0.10171516], [105674, 0.0010885731], [404456, 0.030170133], [845767, 0.032585144], [1168039, 0.29455274], [455011, 0.0210349], [355972, 0.0046042935], [678035, 0.012771687], [349432, 0.0012562207], [371025, 0.0017354649], [966520, 0.18017629], [775775, 0.22521344], [692441, 0.035712626], [656835, 0.006167986], [477642, 0.025482727], [330308, 0.010603915], [1129813, 0.017636167], [686949, 0.0059496337], [688589, 0.008420201], [847402, 0.2845854], [353510, 0.023077687], [363035, 0.001396036], [1010656, 0.15716046], [809960, 0.034600724], [533178, 0.023011034], [660288, 0.001589782], [65487, 0.0005058465], [88663, 0.001024629], [355920, 0.013607804], [557229, 0.064123094], [1243070, 0.2555311], [677299, 0.0009810242], [783216, 0.0039329743], [391850, 0.022919476], [704580, 0.01038677], [174554, 0.0087962], [256788, 0.01032499], [270280, 0.011388886], [478507, 0.09764076], [589255, 0.07729281], [944449, 0.009399318], [744077, 0.00017991783], [416237, 0.03248035], [879387, 0.0051034414], [892325, 0.0022467962], [962742, 0.78284705], [398050, 0.009065766], [591266, 0.015729526], [360052, 0.014627034], [1102285, 0.32522726], [966392, 0.80884093], [350019, 0.030948674], [398743, 0.06652737], [915532, 0.25266233], [1019041, 0.007694974], [1083952, 0.014341189], [244070, 0.017267028], [262747, 0.010929737], [374061, 0.023532331], [652375, 0.0063959896], [646017, 0.0025815463], [885618, 0.0014971445], [1003204, 0.056810897], [743283, 0.43334], [4880, 0.0069952477], [874772, 0.0012938892], [693521, 0.05560509], [957787, 0.018217526], [165670, 0.0037549678], [298341, 0.0037790437], [717290, 0.017993012], [949554, 0.056278], [549620, 0.0038878156], [91396, 0.00549391], [711229, 0.031035377], [59071, 0.07020526], [963727, 0.0043143113], [274356, 0.08430198], [765831, 0.004830985], [74727, 0.0299355], [490920, 0.10978644], [796889, 0.030877786], [833742, 0.008336236], [1185082, 0.29775843], [385050, 0.037998147], [657632, 0.0038209918], [377014, 0.037879564], [737996, 0.038873464], [843705, 0.010162686], [111478, 0.0043524504], [833812, 0.012319298], [443925, 0.0586659], [290765, 0.19101451], [823971, 0.05095131], [362651, 0.0013992018], [881459, 0.009290155], [469694, 0.013465577], [250713, 0.005201948], [1265321, 0.0109691955], [923373, 0.0052466975], [509541, 0.029620854], [904254, 0.055228505], [59682, 0.03716044], [626072, 0.006383205], [397541, 0.016831337], [750382, 0.026398262], [900418, 0.1646474], [206915, 0.030582616], [330074, 0.04159901], [788791, 0.026749827], [20374, 0.03588363], [363004, 0.032746293], [436808, 0.0021271007], [780792, 0.7235412], [871945, 0.90840757], [196419, 0.9039238], [345989, 0.9885632], [826004, 0.9959805], [788556, 0.9447094], [920111, 0.9869915], [291397, 0.9995328], [563462, 0.9974367], [712837, 0.96074075], [370334, 0.9279243], [390343, 0.9509381], [37867, 0.9531621], [637648, 0.9261531], [1116278, 0.99404377], [621724, 0.9686831], [713600, 0.9914724], [1050891, 0.9882372], [828995, 0.90800697], [88955, 0.990746], [679517, 0.97175306], [1036479, 0.9517637], [427691, 0.9862212], [342566, 0.91333747], [560472, 0.99329835], [525475, 0.95691293], [1193001, 0.90602773], [449334, 0.946149], [1103849, 0.8016938], [1146403, 0.9788536], [919075, 0.968452], [210546, 0.99632156], [768275, 0.522154], [727820, 0.9901022], [706045, 0.9385545], [435395, 0.97926545], [351779, 0.994208], [527550, 0.9795982], [643492, 0.95591605], [790714, 0.99699867], [841424, 0.9322184], [5674, 0.9638678], [737477, 0.77527523], [163061, 0.94894594], [1006427, 0.9544233], [771282, 0.9994055], [47606, 0.96515024], [335397, 0.9664915], [240705, 0.9106256], [96281, 0.99386394], [529180, 0.82345045], [192553, 0.9928779], [609416, 0.9259417], [516335, 0.9940189], [205522, 0.9991308], [507160, 0.98948425], [378933, 0.97730905], [206557, 0.9927521], [861374, 0.7369521], [774023, 0.8391173], [533354, 0.9628294], [527754, 0.38045457], [252209, 0.99211395], [524033, 0.9821868], [1049846, 0.95624256], [792555, 0.9478395], [106790, 0.9920223], [505319, 0.9918623], [870687, 0.96690637], [19298, 0.97566944], [1096185, 0.9811965], [19601, 0.8948362], [392284, 0.9404218], [458583, 0.99106896], [607712, 0.9967614], [336282, 0.9921456], [1108664, 0.818632], [84184, 0.99219126], [255381, 0.7454115], [1096518, 0.82898986], [570608, 0.965808], [702280, 0.9288242], [827703, 0.99866736], [326582, 0.6709396], [917252, 0.9782381], [363662, 0.9908415], [207036, 0.9947345], [850253, 0.9652856], [113585, 0.9879633], [694844, 0.9935967], [680025, 0.8775304], [337439, 0.9982666], [753021, 0.95939606], [571293, 0.9737464], [504664, 0.99935824], [815043, 0.971882], [1093716, 0.9384652], [593181, 0.8942264], [401921, 0.95275486], [367925, 0.96476275], [4700, 0.99264103], [284987, 0.9702351], [114818, 0.91800714], [402594, 0.95262486], [630403, 0.78586817], [1157357, 0.96715], [24587, 0.99685705], [829548, 0.87590027], [939622, 0.9839113], [407646, 0.99853337], [887672, 0.98693943], [659401, 0.9730094]]\u001b[0m\n",
      "\u001b[35m169.254.255.130 - - [06/Jul/2021 08:37:48] \"POST /invocations HTTP/1.1\" 200 -\u001b[0m\n",
      "\u001b[32m2021-07-06T08:37:47.870:[sagemaker logs]: MaxConcurrentTransforms=1, MaxPayloadInMB=6, BatchStrategy=MULTI_RECORD\u001b[0m\n",
      "\n",
      "\u001b[34m/usr/local/lib/python3.6/dist-packages/sklearn/base.py:315: UserWarning: Trying to unpickle estimator SimpleImputer from version 0.22.1 when using version 0.24.2. This might lead to breaking code or invalid results. Use at your own risk.\n",
      "  UserWarning)\u001b[0m\n",
      "\u001b[34m/usr/local/lib/python3.6/dist-packages/sklearn/base.py:315: UserWarning: Trying to unpickle estimator StandardScaler from version 0.22.1 when using version 0.24.2. This might lead to breaking code or invalid results. Use at your own risk.\n",
      "  UserWarning)\u001b[0m\n",
      "\u001b[34m/usr/local/lib/python3.6/dist-packages/sklearn/base.py:315: UserWarning: Trying to unpickle estimator Pipeline from version 0.22.1 when using version 0.24.2. This might lead to breaking code or invalid results. Use at your own risk.\n",
      "  UserWarning)\u001b[0m\n",
      "\u001b[34m/usr/local/lib/python3.6/dist-packages/sklearn/base.py:315: UserWarning: Trying to unpickle estimator OneHotEncoder from version 0.22.1 when using version 0.24.2. This might lead to breaking code or invalid results. Use at your own risk.\n",
      "  UserWarning)\u001b[0m\n",
      "\u001b[34m/usr/local/lib/python3.6/dist-packages/sklearn/base.py:315: UserWarning: Trying to unpickle estimator ColumnTransformer from version 0.22.1 when using version 0.24.2. This might lead to breaking code or invalid results. Use at your own risk.\n",
      "  UserWarning)\n",
      " * Serving Flask app 'serve' (lazy loading)\n",
      " * Environment: production\n",
      "   WARNING: This is a development server. Do not use it in a production deployment.\n",
      "   Use a production WSGI server instead.\n",
      " * Debug mode: on\n",
      " * Running on all addresses.\n",
      "   WARNING: This is a development server. Do not use it in a production deployment.\n",
      " * Running on http://169.254.255.131:8080/ (Press CTRL+C to quit)\n",
      " * Restarting with stat\u001b[0m\n",
      "\u001b[34m/usr/local/lib/python3.6/dist-packages/sklearn/base.py:315: UserWarning: Trying to unpickle estimator SimpleImputer from version 0.22.1 when using version 0.24.2. This might lead to breaking code or invalid results. Use at your own risk.\n",
      "  UserWarning)\u001b[0m\n",
      "\u001b[34m/usr/local/lib/python3.6/dist-packages/sklearn/base.py:315: UserWarning: Trying to unpickle estimator StandardScaler from version 0.22.1 when using version 0.24.2. This might lead to breaking code or invalid results. Use at your own risk.\n",
      "  UserWarning)\u001b[0m\n",
      "\u001b[34m/usr/local/lib/python3.6/dist-packages/sklearn/base.py:315: UserWarning: Trying to unpickle estimator Pipeline from version 0.22.1 when using version 0.24.2. This might lead to breaking code or invalid results. Use at your own risk.\n",
      "  UserWarning)\u001b[0m\n",
      "\u001b[34m/usr/local/lib/python3.6/dist-packages/sklearn/base.py:315: UserWarning: Trying to unpickle estimator OneHotEncoder from version 0.22.1 when using version 0.24.2. This might lead to breaking code or invalid results. Use at your own risk.\n",
      "  UserWarning)\u001b[0m\n",
      "\u001b[34m/usr/local/lib/python3.6/dist-packages/sklearn/base.py:315: UserWarning: Trying to unpickle estimator ColumnTransformer from version 0.22.1 when using version 0.24.2. This might lead to breaking code or invalid results. Use at your own risk.\n",
      "  UserWarning)\n",
      " * Debugger is active!\n",
      " * Debugger PIN: 660-283-280\u001b[0m\n",
      "\u001b[35m/usr/local/lib/python3.6/dist-packages/sklearn/base.py:315: UserWarning: Trying to unpickle estimator SimpleImputer from version 0.22.1 when using version 0.24.2. This might lead to breaking code or invalid results. Use at your own risk.\n",
      "  UserWarning)\u001b[0m\n",
      "\u001b[35m/usr/local/lib/python3.6/dist-packages/sklearn/base.py:315: UserWarning: Trying to unpickle estimator StandardScaler from version 0.22.1 when using version 0.24.2. This might lead to breaking code or invalid results. Use at your own risk.\n",
      "  UserWarning)\u001b[0m\n",
      "\u001b[35m/usr/local/lib/python3.6/dist-packages/sklearn/base.py:315: UserWarning: Trying to unpickle estimator Pipeline from version 0.22.1 when using version 0.24.2. This might lead to breaking code or invalid results. Use at your own risk.\n",
      "  UserWarning)\u001b[0m\n",
      "\u001b[35m/usr/local/lib/python3.6/dist-packages/sklearn/base.py:315: UserWarning: Trying to unpickle estimator OneHotEncoder from version 0.22.1 when using version 0.24.2. This might lead to breaking code or invalid results. Use at your own risk.\n",
      "  UserWarning)\u001b[0m\n",
      "\u001b[35m/usr/local/lib/python3.6/dist-packages/sklearn/base.py:315: UserWarning: Trying to unpickle estimator ColumnTransformer from version 0.22.1 when using version 0.24.2. This might lead to breaking code or invalid results. Use at your own risk.\n",
      "  UserWarning)\n",
      " * Serving Flask app 'serve' (lazy loading)\n",
      " * Environment: production\n",
      "   WARNING: This is a development server. Do not use it in a production deployment.\n",
      "   Use a production WSGI server instead.\n",
      " * Debug mode: on\n",
      " * Running on all addresses.\n",
      "   WARNING: This is a development server. Do not use it in a production deployment.\n",
      " * Running on http://169.254.255.131:8080/ (Press CTRL+C to quit)\n",
      " * Restarting with stat\u001b[0m\n",
      "\u001b[35m/usr/local/lib/python3.6/dist-packages/sklearn/base.py:315: UserWarning: Trying to unpickle estimator SimpleImputer from version 0.22.1 when using version 0.24.2. This might lead to breaking code or invalid results. Use at your own risk.\n",
      "  UserWarning)\u001b[0m\n",
      "\u001b[35m/usr/local/lib/python3.6/dist-packages/sklearn/base.py:315: UserWarning: Trying to unpickle estimator StandardScaler from version 0.22.1 when using version 0.24.2. This might lead to breaking code or invalid results. Use at your own risk.\n",
      "  UserWarning)\u001b[0m\n",
      "\u001b[35m/usr/local/lib/python3.6/dist-packages/sklearn/base.py:315: UserWarning: Trying to unpickle estimator Pipeline from version 0.22.1 when using version 0.24.2. This might lead to breaking code or invalid results. Use at your own risk.\n",
      "  UserWarning)\u001b[0m\n",
      "\u001b[35m/usr/local/lib/python3.6/dist-packages/sklearn/base.py:315: UserWarning: Trying to unpickle estimator OneHotEncoder from version 0.22.1 when using version 0.24.2. This might lead to breaking code or invalid results. Use at your own risk.\n",
      "  UserWarning)\u001b[0m\n",
      "\u001b[35m/usr/local/lib/python3.6/dist-packages/sklearn/base.py:315: UserWarning: Trying to unpickle estimator ColumnTransformer from version 0.22.1 when using version 0.24.2. This might lead to breaking code or invalid results. Use at your own risk.\n",
      "  UserWarning)\n",
      " * Debugger is active!\n",
      " * Debugger PIN: 660-283-280\u001b[0m\n",
      "\u001b[34m169.254.255.130 - - [06/Jul/2021 08:37:47] \"GET /ping HTTP/1.1\" 200 -\u001b[0m\n",
      "\u001b[34m169.254.255.130 - - [06/Jul/2021 08:37:47] \"#033[33mGET /execution-parameters HTTP/1.1#033[0m\" 404 -\u001b[0m\n",
      "\u001b[34m1\u001b[0m\n",
      "\u001b[34m2\u001b[0m\n",
      "\u001b[34m3\u001b[0m\n",
      "\u001b[34mdf_from_engine\u001b[0m\n",
      "\u001b[34m[['policy_number', 'prediction_of_fraud'], [323623, 0.016524194], [915129, 0.0025932775], [84573, 0.12892379], [150514, 0.0019840703], [906147, 0.0073868823], [774508, 0.006009335], [833245, 0.10171516], [105674, 0.0010885731], [404456, 0.030170133], [845767, 0.032585144], [1168039, 0.29455274], [455011, 0.0210349], [355972, 0.0046042935], [678035, 0.012771687], [349432, 0.0012562207], [371025, 0.0017354649], [966520, 0.18017629], [775775, 0.22521344], [692441, 0.035712626], [656835, 0.006167986], [477642, 0.025482727], [330308, 0.010603915], [1129813, 0.017636167], [686949, 0.0059496337], [688589, 0.008420201], [847402, 0.2845854], [353510, 0.023077687], [363035, 0.001396036], [1010656, 0.15716046], [809960, 0.034600724], [533178, 0.023011034], [660288, 0.001589782], [65487, 0.0005058465], [88663, 0.001024629], [355920, 0.013607804], [557229, 0.064123094], [1243070, 0.2555311], [677299, 0.0009810242], [783216, 0.0039329743], [391850, 0.022919476], [704580, 0.01038677], [174554, 0.0087962], [256788, 0.01032499], [270280, 0.011388886], [478507, 0.09764076], [589255, 0.07729281], [944449, 0.009399318], [744077, 0.00017991783], [416237, 0.03248035], [879387, 0.0051034414], [892325, 0.0022467962], [962742, 0.78284705], [398050, 0.009065766], [591266, 0.015729526], [360052, 0.014627034], [1102285, 0.32522726], [966392, 0.80884093], [350019, 0.030948674], [398743, 0.06652737], [915532, 0.25266233], [1019041, 0.007694974], [1083952, 0.014341189], [244070, 0.017267028], [262747, 0.010929737], [374061, 0.023532331], [652375, 0.0063959896], [646017, 0.0025815463], [885618, 0.0014971445], [1003204, 0.056810897], [743283, 0.43334], [4880, 0.0069952477], [874772, 0.0012938892], [693521, 0.05560509], [957787, 0.018217526], [165670, 0.0037549678], [298341, 0.0037790437], [717290, 0.017993012], [949554, 0.056278], [549620, 0.0038878156], [91396, 0.00549391], [711229, 0.031035377], [59071, 0.07020526], [963727, 0.0043143113], [274356, 0.08430198], [765831, 0.004830985], [74727, 0.0299355], [490920, 0.10978644], [796889, 0.030877786], [833742, 0.008336236], [1185082, 0.29775843], [385050, 0.037998147], [657632, 0.0038209918], [377014, 0.037879564], [737996, 0.038873464], [843705, 0.010162686], [111478, 0.0043524504], [833812, 0.012319298], [443925, 0.0586659], [290765, 0.19101451], [823971, 0.05095131], [362651, 0.0013992018], [881459, 0.009290155], [469694, 0.013465577], [250713, 0.005201948], [1265321, 0.0109691955], [923373, 0.0052466975], [509541, 0.029620854], [904254, 0.055228505], [59682, 0.03716044], [626072, 0.006383205], [397541, 0.016831337], [750382, 0.026398262], [900418, 0.1646474], [206915, 0.030582616], [330074, 0.04159901], [788791, 0.026749827], [20374, 0.03588363], [363004, 0.032746293], [436808, 0.0021271007], [780792, 0.7235412], [871945, 0.90840757], [196419, 0.9039238], [345989, 0.9885632], [826004, 0.9959805], [788556, 0.9447094], [920111, 0.9869915], [291397, 0.9995328], [563462, 0.9974367], [712837, 0.96074075], [370334, 0.9279243], [390343, 0.9509381], [37867, 0.9531621], [637648, 0.9261531], [1116278, 0.99404377], [621724, 0.9686831], [713600, 0.9914724], [1050891, 0.9882372], [828995, 0.90800697], [88955, 0.990746], [679517, 0.97175306], [1036479, 0.9517637], [427691, 0.9862212], [342566, 0.91333747], [560472, 0.99329835], [525475, 0.95691293], [1193001, 0.90602773], [449334, 0.946149], [1103849, 0.8016938], [1146403, 0.9788536], [919075, 0.968452], [210546, 0.99632156], [768275, 0.522154], [727820, 0.9901022], [706045, 0.9385545], [435395, 0.97926545], [351779, 0.994208], [527550, 0.9795982], [643492, 0.95591605], [790714, 0.99699867], [841424, 0.9322184], [5674, 0.9638678], [737477, 0.77527523], [163061, 0.94894594], [1006427, 0.9544233], [771282, 0.9994055], [47606, 0.96515024], [335397, 0.9664915], [240705, 0.9106256], [96281, 0.99386394], [529180, 0.82345045], [192553, 0.9928779], [609416, 0.9259417], [516335, 0.9940189], [205522, 0.9991308], [507160, 0.98948425], [378933, 0.97730905], [206557, 0.9927521], [861374, 0.7369521], [774023, 0.8391173], [533354, 0.9628294], [527754, 0.38045457], [252209, 0.99211395], [524033, 0.9821868], [1049846, 0.95624256], [792555, 0.9478395], [106790, 0.9920223], [505319, 0.9918623], [870687, 0.96690637], [19298, 0.97566944], [1096185, 0.9811965], [19601, 0.8948362], [392284, 0.9404218], [458583, 0.99106896], [607712, 0.9967614], [336282, 0.9921456], [1108664, 0.818632], [84184, 0.99219126], [255381, 0.7454115], [1096518, 0.82898986], [570608, 0.965808], [702280, 0.9288242], [827703, 0.99866736], [326582, 0.6709396], [917252, 0.9782381], [363662, 0.9908415], [207036, 0.9947345], [850253, 0.9652856], [113585, 0.9879633], [694844, 0.9935967], [680025, 0.8775304], [337439, 0.9982666], [753021, 0.95939606], [571293, 0.9737464], [504664, 0.99935824], [815043, 0.971882], [1093716, 0.9384652], [593181, 0.8942264], [401921, 0.95275486], [367925, 0.96476275], [4700, 0.99264103], [284987, 0.9702351], [114818, 0.91800714], [402594, 0.95262486], [630403, 0.78586817], [1157357, 0.96715], [24587, 0.99685705], [829548, 0.87590027], [939622, 0.9839113], [407646, 0.99853337], [887672, 0.98693943], [659401, 0.9730094]]\u001b[0m\n",
      "\u001b[34m4: [['policy_number', 'prediction_of_fraud'], [323623, 0.016524194], [915129, 0.0025932775], [84573, 0.12892379], [150514, 0.0019840703], [906147, 0.0073868823], [774508, 0.006009335], [833245, 0.10171516], [105674, 0.0010885731], [404456, 0.030170133], [845767, 0.032585144], [1168039, 0.29455274], [455011, 0.0210349], [355972, 0.0046042935], [678035, 0.012771687], [349432, 0.0012562207], [371025, 0.0017354649], [966520, 0.18017629], [775775, 0.22521344], [692441, 0.035712626], [656835, 0.006167986], [477642, 0.025482727], [330308, 0.010603915], [1129813, 0.017636167], [686949, 0.0059496337], [688589, 0.008420201], [847402, 0.2845854], [353510, 0.023077687], [363035, 0.001396036], [1010656, 0.15716046], [809960, 0.034600724], [533178, 0.023011034], [660288, 0.001589782], [65487, 0.0005058465], [88663, 0.001024629], [355920, 0.013607804], [557229, 0.064123094], [1243070, 0.2555311], [677299, 0.0009810242], [783216, 0.0039329743], [391850, 0.022919476], [704580, 0.01038677], [174554, 0.0087962], [256788, 0.01032499], [270280, 0.011388886], [478507, 0.09764076], [589255, 0.07729281], [944449, 0.009399318], [744077, 0.00017991783], [416237, 0.03248035], [879387, 0.0051034414], [892325, 0.0022467962], [962742, 0.78284705], [398050, 0.009065766], [591266, 0.015729526], [360052, 0.014627034], [1102285, 0.32522726], [966392, 0.80884093], [350019, 0.030948674], [398743, 0.06652737], [915532, 0.25266233], [1019041, 0.007694974], [1083952, 0.014341189], [244070, 0.017267028], [262747, 0.010929737], [374061, 0.023532331], [652375, 0.0063959896], [646017, 0.0025815463], [885618, 0.0014971445], [1003204, 0.056810897], [743283, 0.43334], [4880, 0.0069952477], [874772, 0.0012938892], [693521, 0.05560509], [957787, 0.018217526], [165670, 0.0037549678], [298341, 0.0037790437], [717290, 0.017993012], [949554, 0.056278], [549620, 0.0038878156], [91396, 0.00549391], [711229, 0.031035377], [59071, 0.07020526], [963727, 0.0043143113], [274356, 0.08430198], [765831, 0.004830985], [74727, 0.0299355], [490920, 0.10978644], [796889, 0.030877786], [833742, 0.008336236], [1185082, 0.29775843], [385050, 0.037998147], [657632, 0.0038209918], [377014, 0.037879564], [737996, 0.038873464], [843705, 0.010162686], [111478, 0.0043524504], [833812, 0.012319298], [443925, 0.0586659], [290765, 0.19101451], [823971, 0.05095131], [362651, 0.0013992018], [881459, 0.009290155], [469694, 0.013465577], [250713, 0.005201948], [1265321, 0.0109691955], [923373, 0.0052466975], [509541, 0.029620854], [904254, 0.055228505], [59682, 0.03716044], [626072, 0.006383205], [397541, 0.016831337], [750382, 0.026398262], [900418, 0.1646474], [206915, 0.030582616], [330074, 0.04159901], [788791, 0.026749827], [20374, 0.03588363], [363004, 0.032746293], [436808, 0.0021271007], [780792, 0.7235412], [871945, 0.90840757], [196419, 0.9039238], [345989, 0.9885632], [826004, 0.9959805], [788556, 0.9447094], [920111, 0.9869915], [291397, 0.9995328], [563462, 0.9974367], [712837, 0.96074075], [370334, 0.9279243], [390343, 0.9509381], [37867, 0.9531621], [637648, 0.9261531], [1116278, 0.99404377], [621724, 0.9686831], [713600, 0.9914724], [1050891, 0.9882372], [828995, 0.90800697], [88955, 0.990746], [679517, 0.97175306], [1036479, 0.9517637], [427691, 0.9862212], [342566, 0.91333747], [560472, 0.99329835], [525475, 0.95691293], [1193001, 0.90602773], [449334, 0.946149], [1103849, 0.8016938], [1146403, 0.9788536], [919075, 0.968452], [210546, 0.99632156], [768275, 0.522154], [727820, 0.9901022], [706045, 0.9385545], [435395, 0.97926545], [351779, 0.994208], [527550, 0.9795982], [643492, 0.95591605], [790714, 0.99699867], [841424, 0.9322184], [5674, 0.9638678], [737477, 0.77527523], [163061, 0.94894594], [1006427, 0.9544233], [771282, 0.9994055], [47606, 0.96515024], [335397, 0.9664915], [240705, 0.9106256], [96281, 0.99386394], [529180, 0.82345045], [192553, 0.9928779], [609416, 0.9259417], [516335, 0.9940189], [205522, 0.9991308], [507160, 0.98948425], [378933, 0.97730905], [206557, 0.9927521], [861374, 0.7369521], [774023, 0.8391173], [533354, 0.9628294], [527754, 0.38045457], [252209, 0.99211395], [524033, 0.9821868], [1049846, 0.95624256], [792555, 0.9478395], [106790, 0.9920223], [505319, 0.9918623], [870687, 0.96690637], [19298, 0.97566944], [1096185, 0.9811965], [19601, 0.8948362], [392284, 0.9404218], [458583, 0.99106896], [607712, 0.9967614], [336282, 0.9921456], [1108664, 0.818632], [84184, 0.99219126], [255381, 0.7454115], [1096518, 0.82898986], [570608, 0.965808], [702280, 0.9288242], [827703, 0.99866736], [326582, 0.6709396], [917252, 0.9782381], [363662, 0.9908415], [207036, 0.9947345], [850253, 0.9652856], [113585, 0.9879633], [694844, 0.9935967], [680025, 0.8775304], [337439, 0.9982666], [753021, 0.95939606], [571293, 0.9737464], [504664, 0.99935824], [815043, 0.971882], [1093716, 0.9384652], [593181, 0.8942264], [401921, 0.95275486], [367925, 0.96476275], [4700, 0.99264103], [284987, 0.9702351], [114818, 0.91800714], [402594, 0.95262486], [630403, 0.78586817], [1157357, 0.96715], [24587, 0.99685705], [829548, 0.87590027], [939622, 0.9839113], [407646, 0.99853337], [887672, 0.98693943], [659401, 0.9730094]]\u001b[0m\n",
      "\u001b[34m169.254.255.130 - - [06/Jul/2021 08:37:48] \"POST /invocations HTTP/1.1\" 200 -\u001b[0m\n",
      "\u001b[35m169.254.255.130 - - [06/Jul/2021 08:37:47] \"GET /ping HTTP/1.1\" 200 -\u001b[0m\n",
      "\u001b[35m169.254.255.130 - - [06/Jul/2021 08:37:47] \"#033[33mGET /execution-parameters HTTP/1.1#033[0m\" 404 -\u001b[0m\n",
      "\u001b[35m1\u001b[0m\n",
      "\u001b[35m2\u001b[0m\n",
      "\u001b[35m3\u001b[0m\n",
      "\u001b[35mdf_from_engine\u001b[0m\n",
      "\u001b[35m[['policy_number', 'prediction_of_fraud'], [323623, 0.016524194], [915129, 0.0025932775], [84573, 0.12892379], [150514, 0.0019840703], [906147, 0.0073868823], [774508, 0.006009335], [833245, 0.10171516], [105674, 0.0010885731], [404456, 0.030170133], [845767, 0.032585144], [1168039, 0.29455274], [455011, 0.0210349], [355972, 0.0046042935], [678035, 0.012771687], [349432, 0.0012562207], [371025, 0.0017354649], [966520, 0.18017629], [775775, 0.22521344], [692441, 0.035712626], [656835, 0.006167986], [477642, 0.025482727], [330308, 0.010603915], [1129813, 0.017636167], [686949, 0.0059496337], [688589, 0.008420201], [847402, 0.2845854], [353510, 0.023077687], [363035, 0.001396036], [1010656, 0.15716046], [809960, 0.034600724], [533178, 0.023011034], [660288, 0.001589782], [65487, 0.0005058465], [88663, 0.001024629], [355920, 0.013607804], [557229, 0.064123094], [1243070, 0.2555311], [677299, 0.0009810242], [783216, 0.0039329743], [391850, 0.022919476], [704580, 0.01038677], [174554, 0.0087962], [256788, 0.01032499], [270280, 0.011388886], [478507, 0.09764076], [589255, 0.07729281], [944449, 0.009399318], [744077, 0.00017991783], [416237, 0.03248035], [879387, 0.0051034414], [892325, 0.0022467962], [962742, 0.78284705], [398050, 0.009065766], [591266, 0.015729526], [360052, 0.014627034], [1102285, 0.32522726], [966392, 0.80884093], [350019, 0.030948674], [398743, 0.06652737], [915532, 0.25266233], [1019041, 0.007694974], [1083952, 0.014341189], [244070, 0.017267028], [262747, 0.010929737], [374061, 0.023532331], [652375, 0.0063959896], [646017, 0.0025815463], [885618, 0.0014971445], [1003204, 0.056810897], [743283, 0.43334], [4880, 0.0069952477], [874772, 0.0012938892], [693521, 0.05560509], [957787, 0.018217526], [165670, 0.0037549678], [298341, 0.0037790437], [717290, 0.017993012], [949554, 0.056278], [549620, 0.0038878156], [91396, 0.00549391], [711229, 0.031035377], [59071, 0.07020526], [963727, 0.0043143113], [274356, 0.08430198], [765831, 0.004830985], [74727, 0.0299355], [490920, 0.10978644], [796889, 0.030877786], [833742, 0.008336236], [1185082, 0.29775843], [385050, 0.037998147], [657632, 0.0038209918], [377014, 0.037879564], [737996, 0.038873464], [843705, 0.010162686], [111478, 0.0043524504], [833812, 0.012319298], [443925, 0.0586659], [290765, 0.19101451], [823971, 0.05095131], [362651, 0.0013992018], [881459, 0.009290155], [469694, 0.013465577], [250713, 0.005201948], [1265321, 0.0109691955], [923373, 0.0052466975], [509541, 0.029620854], [904254, 0.055228505], [59682, 0.03716044], [626072, 0.006383205], [397541, 0.016831337], [750382, 0.026398262], [900418, 0.1646474], [206915, 0.030582616], [330074, 0.04159901], [788791, 0.026749827], [20374, 0.03588363], [363004, 0.032746293], [436808, 0.0021271007], [780792, 0.7235412], [871945, 0.90840757], [196419, 0.9039238], [345989, 0.9885632], [826004, 0.9959805], [788556, 0.9447094], [920111, 0.9869915], [291397, 0.9995328], [563462, 0.9974367], [712837, 0.96074075], [370334, 0.9279243], [390343, 0.9509381], [37867, 0.9531621], [637648, 0.9261531], [1116278, 0.99404377], [621724, 0.9686831], [713600, 0.9914724], [1050891, 0.9882372], [828995, 0.90800697], [88955, 0.990746], [679517, 0.97175306], [1036479, 0.9517637], [427691, 0.9862212], [342566, 0.91333747], [560472, 0.99329835], [525475, 0.95691293], [1193001, 0.90602773], [449334, 0.946149], [1103849, 0.8016938], [1146403, 0.9788536], [919075, 0.968452], [210546, 0.99632156], [768275, 0.522154], [727820, 0.9901022], [706045, 0.9385545], [435395, 0.97926545], [351779, 0.994208], [527550, 0.9795982], [643492, 0.95591605], [790714, 0.99699867], [841424, 0.9322184], [5674, 0.9638678], [737477, 0.77527523], [163061, 0.94894594], [1006427, 0.9544233], [771282, 0.9994055], [47606, 0.96515024], [335397, 0.9664915], [240705, 0.9106256], [96281, 0.99386394], [529180, 0.82345045], [192553, 0.9928779], [609416, 0.9259417], [516335, 0.9940189], [205522, 0.9991308], [507160, 0.98948425], [378933, 0.97730905], [206557, 0.9927521], [861374, 0.7369521], [774023, 0.8391173], [533354, 0.9628294], [527754, 0.38045457], [252209, 0.99211395], [524033, 0.9821868], [1049846, 0.95624256], [792555, 0.9478395], [106790, 0.9920223], [505319, 0.9918623], [870687, 0.96690637], [19298, 0.97566944], [1096185, 0.9811965], [19601, 0.8948362], [392284, 0.9404218], [458583, 0.99106896], [607712, 0.9967614], [336282, 0.9921456], [1108664, 0.818632], [84184, 0.99219126], [255381, 0.7454115], [1096518, 0.82898986], [570608, 0.965808], [702280, 0.9288242], [827703, 0.99866736], [326582, 0.6709396], [917252, 0.9782381], [363662, 0.9908415], [207036, 0.9947345], [850253, 0.9652856], [113585, 0.9879633], [694844, 0.9935967], [680025, 0.8775304], [337439, 0.9982666], [753021, 0.95939606], [571293, 0.9737464], [504664, 0.99935824], [815043, 0.971882], [1093716, 0.9384652], [593181, 0.8942264], [401921, 0.95275486], [367925, 0.96476275], [4700, 0.99264103], [284987, 0.9702351], [114818, 0.91800714], [402594, 0.95262486], [630403, 0.78586817], [1157357, 0.96715], [24587, 0.99685705], [829548, 0.87590027], [939622, 0.9839113], [407646, 0.99853337], [887672, 0.98693943], [659401, 0.9730094]]\u001b[0m\n",
      "\u001b[35m4: [['policy_number', 'prediction_of_fraud'], [323623, 0.016524194], [915129, 0.0025932775], [84573, 0.12892379], [150514, 0.0019840703], [906147, 0.0073868823], [774508, 0.006009335], [833245, 0.10171516], [105674, 0.0010885731], [404456, 0.030170133], [845767, 0.032585144], [1168039, 0.29455274], [455011, 0.0210349], [355972, 0.0046042935], [678035, 0.012771687], [349432, 0.0012562207], [371025, 0.0017354649], [966520, 0.18017629], [775775, 0.22521344], [692441, 0.035712626], [656835, 0.006167986], [477642, 0.025482727], [330308, 0.010603915], [1129813, 0.017636167], [686949, 0.0059496337], [688589, 0.008420201], [847402, 0.2845854], [353510, 0.023077687], [363035, 0.001396036], [1010656, 0.15716046], [809960, 0.034600724], [533178, 0.023011034], [660288, 0.001589782], [65487, 0.0005058465], [88663, 0.001024629], [355920, 0.013607804], [557229, 0.064123094], [1243070, 0.2555311], [677299, 0.0009810242], [783216, 0.0039329743], [391850, 0.022919476], [704580, 0.01038677], [174554, 0.0087962], [256788, 0.01032499], [270280, 0.011388886], [478507, 0.09764076], [589255, 0.07729281], [944449, 0.009399318], [744077, 0.00017991783], [416237, 0.03248035], [879387, 0.0051034414], [892325, 0.0022467962], [962742, 0.78284705], [398050, 0.009065766], [591266, 0.015729526], [360052, 0.014627034], [1102285, 0.32522726], [966392, 0.80884093], [350019, 0.030948674], [398743, 0.06652737], [915532, 0.25266233], [1019041, 0.007694974], [1083952, 0.014341189], [244070, 0.017267028], [262747, 0.010929737], [374061, 0.023532331], [652375, 0.0063959896], [646017, 0.0025815463], [885618, 0.0014971445], [1003204, 0.056810897], [743283, 0.43334], [4880, 0.0069952477], [874772, 0.0012938892], [693521, 0.05560509], [957787, 0.018217526], [165670, 0.0037549678], [298341, 0.0037790437], [717290, 0.017993012], [949554, 0.056278], [549620, 0.0038878156], [91396, 0.00549391], [711229, 0.031035377], [59071, 0.07020526], [963727, 0.0043143113], [274356, 0.08430198], [765831, 0.004830985], [74727, 0.0299355], [490920, 0.10978644], [796889, 0.030877786], [833742, 0.008336236], [1185082, 0.29775843], [385050, 0.037998147], [657632, 0.0038209918], [377014, 0.037879564], [737996, 0.038873464], [843705, 0.010162686], [111478, 0.0043524504], [833812, 0.012319298], [443925, 0.0586659], [290765, 0.19101451], [823971, 0.05095131], [362651, 0.0013992018], [881459, 0.009290155], [469694, 0.013465577], [250713, 0.005201948], [1265321, 0.0109691955], [923373, 0.0052466975], [509541, 0.029620854], [904254, 0.055228505], [59682, 0.03716044], [626072, 0.006383205], [397541, 0.016831337], [750382, 0.026398262], [900418, 0.1646474], [206915, 0.030582616], [330074, 0.04159901], [788791, 0.026749827], [20374, 0.03588363], [363004, 0.032746293], [436808, 0.0021271007], [780792, 0.7235412], [871945, 0.90840757], [196419, 0.9039238], [345989, 0.9885632], [826004, 0.9959805], [788556, 0.9447094], [920111, 0.9869915], [291397, 0.9995328], [563462, 0.9974367], [712837, 0.96074075], [370334, 0.9279243], [390343, 0.9509381], [37867, 0.9531621], [637648, 0.9261531], [1116278, 0.99404377], [621724, 0.9686831], [713600, 0.9914724], [1050891, 0.9882372], [828995, 0.90800697], [88955, 0.990746], [679517, 0.97175306], [1036479, 0.9517637], [427691, 0.9862212], [342566, 0.91333747], [560472, 0.99329835], [525475, 0.95691293], [1193001, 0.90602773], [449334, 0.946149], [1103849, 0.8016938], [1146403, 0.9788536], [919075, 0.968452], [210546, 0.99632156], [768275, 0.522154], [727820, 0.9901022], [706045, 0.9385545], [435395, 0.97926545], [351779, 0.994208], [527550, 0.9795982], [643492, 0.95591605], [790714, 0.99699867], [841424, 0.9322184], [5674, 0.9638678], [737477, 0.77527523], [163061, 0.94894594], [1006427, 0.9544233], [771282, 0.9994055], [47606, 0.96515024], [335397, 0.9664915], [240705, 0.9106256], [96281, 0.99386394], [529180, 0.82345045], [192553, 0.9928779], [609416, 0.9259417], [516335, 0.9940189], [205522, 0.9991308], [507160, 0.98948425], [378933, 0.97730905], [206557, 0.9927521], [861374, 0.7369521], [774023, 0.8391173], [533354, 0.9628294], [527754, 0.38045457], [252209, 0.99211395], [524033, 0.9821868], [1049846, 0.95624256], [792555, 0.9478395], [106790, 0.9920223], [505319, 0.9918623], [870687, 0.96690637], [19298, 0.97566944], [1096185, 0.9811965], [19601, 0.8948362], [392284, 0.9404218], [458583, 0.99106896], [607712, 0.9967614], [336282, 0.9921456], [1108664, 0.818632], [84184, 0.99219126], [255381, 0.7454115], [1096518, 0.82898986], [570608, 0.965808], [702280, 0.9288242], [827703, 0.99866736], [326582, 0.6709396], [917252, 0.9782381], [363662, 0.9908415], [207036, 0.9947345], [850253, 0.9652856], [113585, 0.9879633], [694844, 0.9935967], [680025, 0.8775304], [337439, 0.9982666], [753021, 0.95939606], [571293, 0.9737464], [504664, 0.99935824], [815043, 0.971882], [1093716, 0.9384652], [593181, 0.8942264], [401921, 0.95275486], [367925, 0.96476275], [4700, 0.99264103], [284987, 0.9702351], [114818, 0.91800714], [402594, 0.95262486], [630403, 0.78586817], [1157357, 0.96715], [24587, 0.99685705], [829548, 0.87590027], [939622, 0.9839113], [407646, 0.99853337], [887672, 0.98693943], [659401, 0.9730094]]\u001b[0m\n",
      "\u001b[35m169.254.255.130 - - [06/Jul/2021 08:37:48] \"POST /invocations HTTP/1.1\" 200 -\u001b[0m\n",
      "\u001b[32m2021-07-06T08:37:47.870:[sagemaker logs]: MaxConcurrentTransforms=1, MaxPayloadInMB=6, BatchStrategy=MULTI_RECORD\u001b[0m\n"
     ]
    }
   ],
   "source": [
    "#Run the batch-transform job\n",
    "transformer = model.transformer(1, batch_transform_inference_instance_type)\n",
    "transformer.transform(transform_input, content_type=content_type)\n",
    "transformer.wait()"
   ]
  },
  {
   "cell_type": "code",
   "execution_count": 14,
   "metadata": {},
   "outputs": [
    {
     "data": {
      "text/plain": [
       "'s3://sagemaker-us-east-2-786796469737/fraud-detection-auto-v4-2021-07-06-08-34-05-173'"
      ]
     },
     "execution_count": 14,
     "metadata": {},
     "output_type": "execute_result"
    }
   ],
   "source": [
    "#output is available on following path\n",
    "transformer.output_path"
   ]
  },
  {
   "cell_type": "code",
   "execution_count": 16,
   "metadata": {},
   "outputs": [
    {
     "name": "stdout",
     "output_type": "stream",
     "text": [
      "Output file loaded from bucket\n"
     ]
    }
   ],
   "source": [
    "import os\n",
    "s3_conn = boto3.client(\"s3\")\n",
    "with open('output2.csv', 'wb') as f:\n",
    "    s3_conn.download_fileobj(bucket, os.path.basename(transformer.output_path)+'/input.csv.out', f)\n",
    "    print(\"Output file loaded from bucket\")"
   ]
  },
  {
   "cell_type": "code",
   "execution_count": 17,
   "metadata": {},
   "outputs": [
    {
     "data": {
      "text/html": [
       "<div>\n",
       "<style scoped>\n",
       "    .dataframe tbody tr th:only-of-type {\n",
       "        vertical-align: middle;\n",
       "    }\n",
       "\n",
       "    .dataframe tbody tr th {\n",
       "        vertical-align: top;\n",
       "    }\n",
       "\n",
       "    .dataframe thead th {\n",
       "        text-align: right;\n",
       "    }\n",
       "</style>\n",
       "<table border=\"1\" class=\"dataframe\">\n",
       "  <thead>\n",
       "    <tr style=\"text-align: right;\">\n",
       "      <th></th>\n",
       "      <th>0</th>\n",
       "      <th>1</th>\n",
       "    </tr>\n",
       "  </thead>\n",
       "  <tbody>\n",
       "    <tr>\n",
       "      <th>0</th>\n",
       "      <td>policy_number</td>\n",
       "      <td>prediction_of_fraud</td>\n",
       "    </tr>\n",
       "    <tr>\n",
       "      <th>1</th>\n",
       "      <td>323623</td>\n",
       "      <td>0.016524194</td>\n",
       "    </tr>\n",
       "    <tr>\n",
       "      <th>2</th>\n",
       "      <td>915129</td>\n",
       "      <td>0.0025932775</td>\n",
       "    </tr>\n",
       "    <tr>\n",
       "      <th>3</th>\n",
       "      <td>84573</td>\n",
       "      <td>0.12892379</td>\n",
       "    </tr>\n",
       "    <tr>\n",
       "      <th>4</th>\n",
       "      <td>150514</td>\n",
       "      <td>0.0019840703</td>\n",
       "    </tr>\n",
       "    <tr>\n",
       "      <th>...</th>\n",
       "      <td>...</td>\n",
       "      <td>...</td>\n",
       "    </tr>\n",
       "    <tr>\n",
       "      <th>227</th>\n",
       "      <td>829548</td>\n",
       "      <td>0.87590027</td>\n",
       "    </tr>\n",
       "    <tr>\n",
       "      <th>228</th>\n",
       "      <td>939622</td>\n",
       "      <td>0.9839113</td>\n",
       "    </tr>\n",
       "    <tr>\n",
       "      <th>229</th>\n",
       "      <td>407646</td>\n",
       "      <td>0.99853337</td>\n",
       "    </tr>\n",
       "    <tr>\n",
       "      <th>230</th>\n",
       "      <td>887672</td>\n",
       "      <td>0.98693943</td>\n",
       "    </tr>\n",
       "    <tr>\n",
       "      <th>231</th>\n",
       "      <td>659401</td>\n",
       "      <td>0.9730094</td>\n",
       "    </tr>\n",
       "  </tbody>\n",
       "</table>\n",
       "<p>232 rows × 2 columns</p>\n",
       "</div>"
      ],
      "text/plain": [
       "                 0                    1\n",
       "0    policy_number  prediction_of_fraud\n",
       "1           323623          0.016524194\n",
       "2           915129         0.0025932775\n",
       "3            84573           0.12892379\n",
       "4           150514         0.0019840703\n",
       "..             ...                  ...\n",
       "227         829548           0.87590027\n",
       "228         939622            0.9839113\n",
       "229         407646           0.99853337\n",
       "230         887672           0.98693943\n",
       "231         659401            0.9730094\n",
       "\n",
       "[232 rows x 2 columns]"
      ]
     },
     "execution_count": 17,
     "metadata": {},
     "output_type": "execute_result"
    }
   ],
   "source": [
    "pd.read_csv(\"output2.csv\",header=None)"
   ]
  },
  {
   "cell_type": "markdown",
   "metadata": {},
   "source": [
    "### 4. Clean-up"
   ]
  },
  {
   "cell_type": "markdown",
   "metadata": {},
   "source": [
    "#### A. Delete the model"
   ]
  },
  {
   "cell_type": "code",
   "execution_count": 18,
   "metadata": {},
   "outputs": [],
   "source": [
    "model.delete_model()"
   ]
  },
  {
   "cell_type": "markdown",
   "metadata": {},
   "source": [
    "#### B. Unsubscribe to the listing (optional)"
   ]
  },
  {
   "cell_type": "markdown",
   "metadata": {},
   "source": [
    "If you would like to unsubscribe to the model package, follow these steps. Before you cancel the subscription, ensure that you do not have any [deployable model](https://console.aws.amazon.com/sagemaker/home#/models) created from the model package or using the algorithm. Note - You can find this information by looking at the container name associated with the model. \n",
    "\n",
    "**Steps to unsubscribe to product from AWS Marketplace**:\n",
    "1. Navigate to __Machine Learning__ tab on [__Your Software subscriptions page__](https://aws.amazon.com/marketplace/ai/library?productType=ml&ref_=mlmp_gitdemo_indust)\n",
    "2. Locate the listing that you want to cancel the subscription for, and then choose __Cancel Subscription__  to cancel the subscription.\n",
    "\n"
   ]
  }
 ],
 "metadata": {
  "kernelspec": {
   "display_name": "conda_python3",
   "language": "python",
   "name": "conda_python3"
  },
  "language_info": {
   "codemirror_mode": {
    "name": "ipython",
    "version": 3
   },
   "file_extension": ".py",
   "mimetype": "text/x-python",
   "name": "python",
   "nbconvert_exporter": "python",
   "pygments_lexer": "ipython3",
   "version": "3.6.13"
  }
 },
 "nbformat": 4,
 "nbformat_minor": 2
}
